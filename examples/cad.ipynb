{
 "cells": [
  {
   "attachments": {},
   "cell_type": "markdown",
   "metadata": {},
   "source": [
    "# CAD Generation"
   ]
  },
  {
   "cell_type": "code",
   "execution_count": 1,
   "metadata": {},
   "outputs": [
    {
     "name": "stdout",
     "output_type": "stream",
     "text": [
      "Overwriting auto display for cadquery Workplane and Shape\n"
     ]
    }
   ],
   "source": [
    "from jupyter_cadquery import set_defaults\n",
    "set_defaults(theme=\"dark\")"
   ]
  },
  {
   "cell_type": "code",
   "execution_count": 1,
   "metadata": {},
   "outputs": [
    {
     "name": "stdout",
     "output_type": "stream",
     "text": [
      "Overwriting auto display for cadquery Workplane and Shape\n",
      "100% ⋮————————————————————————————————————————————————————————————⋮ (3/3)  0.31s\n"
     ]
    },
    {
     "data": {
      "application/vnd.jupyter.widget-view+json": {
       "model_id": "da7dca845a674d77a0c4edbe3414bf4d",
       "version_major": 2,
       "version_minor": 0
      },
      "text/plain": [
       "CadViewerWidget(anchor=None, cad_width=800, glass=False, height=600, pinning=False, theme='light', title=None,…"
      ]
     },
     "metadata": {},
     "output_type": "display_data"
    },
    {
     "data": {
      "text/html": [
       "<div></div>"
      ],
      "text/plain": [
       "<IPython.core.display.HTML object>"
      ]
     },
     "metadata": {},
     "output_type": "display_data"
    },
    {
     "name": "stdout",
     "output_type": "stream",
     "text": [
      "DCAAirfoil(c=0.016077776163742997, theta=-1.8263931819627874, r0=0.00024116664245614497, tb=0.0016077776163742998, xi=-0.05833869911422951, arc_weight=0.8)\n"
     ]
    }
   ],
   "source": [
    "from tests.designs import mark1\n",
    "from turbodesigner.cad.blade import BladeCadModel\n",
    "import plotly.graph_objects as go\n",
    "from jupyter_cadquery import show\n",
    "from cadquery import exporters\n",
    "import numpy as np\n",
    "\n",
    "blade_row = mark1.stages[1].rotor.to_cad_export()\n",
    "blade_model = BladeCadModel(blade_row)\n",
    "blade_profile = blade_model.blade_assembly.objects[\"Blade\"].obj\n",
    "show(blade_model.blade_assembly)\n",
    "# exporters.export(blade_profile, \"blade_profile7.stl\")\n",
    "print(mark1.stages[1].rotor.airfoils[0])"
   ]
  },
  {
   "attachments": {},
   "cell_type": "markdown",
   "metadata": {},
   "source": [
    "# Shaft Cad"
   ]
  },
  {
   "cell_type": "code",
   "execution_count": 3,
   "metadata": {},
   "outputs": [
    {
     "name": "stdout",
     "output_type": "stream",
     "text": [
      "............................................................................................................................................................................................................................................................................................................................................................................................................... sending ... done\n"
     ]
    }
   ],
   "source": [
    "from tests.designs import mark1\n",
    "from turbodesigner.cad.shaft import ShaftCadModel, ShaftCadModelSpecification\n",
    "from jupyter_cadquery.viewer.client import show\n",
    "# from jupyter_cadquery import show\n",
    "\n",
    "import numpy as np\n",
    "from cadquery import exporters\n",
    "import cadquery as cq\n",
    "\n",
    "turbomachinery = mark1.to_cad_export()\n",
    "stage = turbomachinery.stages[0]\n",
    "next_stage = turbomachinery.stages[1]\n",
    "spec = ShaftCadModelSpecification(\n",
    "    is_simple=True\n",
    ")\n",
    "shaft_cad_model = ShaftCadModel(\n",
    "    stage, \n",
    "    next_stage,\n",
    "    spec\n",
    ")\n",
    "\n",
    "show(shaft_cad_model.shaft_assembly(turbomachinery, spec))"
   ]
  },
  {
   "attachments": {},
   "cell_type": "markdown",
   "metadata": {},
   "source": [
    "# Casing"
   ]
  },
  {
   "cell_type": "code",
   "execution_count": 4,
   "metadata": {},
   "outputs": [
    {
     "name": "stdout",
     "output_type": "stream",
     "text": [
      "100% ⋮————————————————————————————————————————————————————————————⋮ (162/162)  4.33s\n"
     ]
    },
    {
     "data": {
      "application/vnd.jupyter.widget-view+json": {
       "model_id": "50d073e6626d46afaddfe48f7d3e94bc",
       "version_major": 2,
       "version_minor": 0
      },
      "text/plain": [
       "CadViewerWidget(anchor=None, cad_width=800, glass=False, height=600, pinning=False, theme='light', title=None,…"
      ]
     },
     "metadata": {},
     "output_type": "display_data"
    },
    {
     "data": {
      "text/html": [
       "<div></div>"
      ],
      "text/plain": [
       "<IPython.core.display.HTML object>"
      ]
     },
     "metadata": {},
     "output_type": "display_data"
    }
   ],
   "source": [
    "from tests.designs import mark1\n",
    "from turbodesigner.cad.casing import CasingCadModel, CasingCadModelSpecifciation\n",
    "from jupyter_cadquery import show\n",
    "# from jupyter_cadquery.viewer.client import show\n",
    "from cadquery import exporters\n",
    "\n",
    "turbomachinery = mark1.to_cad_export()\n",
    "first_stage = turbomachinery.stages[0]\n",
    "previous_stage = turbomachinery.stages[0]\n",
    "stage = turbomachinery.stages[1]\n",
    "\n",
    "casing_model = CasingCadModel(\n",
    "    stage, \n",
    "    first_stage, \n",
    "    previous_stage,\n",
    ")\n",
    "\n",
    "show(casing_model.casing_stage_assembly)\n",
    "\n",
    "\n",
    "# spec = CasingCadModelSpecifciation(\n",
    "#     is_simple=False\n",
    "# )\n",
    "# casing_assmebly = CasingCadModel.casing_assembly(turbomachinery, spec)\n",
    "# show(casing_assmebly)\n",
    "\n",
    "export = False\n",
    "if export:\n",
    "    casing_profile = casing_model.casing_stage_assembly.objects[\"Stage Casing\"].obj\n",
    "    exporters.export(casing_profile, \"casing_profile.stl\")"
   ]
  }
 ],
 "metadata": {
  "kernelspec": {
   "display_name": "Python 3",
   "language": "python",
   "name": "python3"
  },
  "language_info": {
   "codemirror_mode": {
    "name": "ipython",
    "version": 3
   },
   "file_extension": ".py",
   "mimetype": "text/x-python",
   "name": "python",
   "nbconvert_exporter": "python",
   "pygments_lexer": "ipython3",
   "version": "3.10.9"
  },
  "orig_nbformat": 4,
  "vscode": {
   "interpreter": {
    "hash": "949777d72b0d2535278d3dc13498b2535136f6dfe0678499012e853ee9abcab1"
   }
  }
 },
 "nbformat": 4,
 "nbformat_minor": 2
}
